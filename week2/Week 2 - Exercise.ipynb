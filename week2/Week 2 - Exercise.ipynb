{
 "cells": [
  {
   "cell_type": "raw",
   "metadata": {},
   "source": [
    "You are given cricket dataset with information collected about real ODI matches played over past few years. \n",
    "Since you are a data scientist, you decided to apply for a role in BCCI and help India with strategies to win a match.\n",
    "\n",
    "The first innings has been played and target is 300 to be chased by India.\n",
    "\n",
    "1. What is the best strategy (run rate) for first 10 overs to win the match? Justify and support your answer with empirical evidence.\n",
    "\n",
    "2. Currently India is at 50-2 (50 runs and lost 2 wickets) at the end of 10 overs. What is the best strategy for 11-20 overs?"
   ]
  },
  {
   "cell_type": "code",
   "execution_count": null,
   "metadata": {},
   "outputs": [],
   "source": [
    "Arrive at the best strategy"
   ]
  }
 ],
 "metadata": {
  "kernelspec": {
   "display_name": "Python 3",
   "language": "python",
   "name": "python3"
  },
  "language_info": {
   "codemirror_mode": {
    "name": "ipython",
    "version": 3
   },
   "file_extension": ".py",
   "mimetype": "text/x-python",
   "name": "python",
   "nbconvert_exporter": "python",
   "pygments_lexer": "ipython3",
   "version": "3.7.3"
  }
 },
 "nbformat": 4,
 "nbformat_minor": 2
}
