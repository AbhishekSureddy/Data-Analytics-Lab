{
 "cells": [
  {
   "cell_type": "markdown",
   "metadata": {
    "colab_type": "text",
    "id": "N1P3fTzt_wZ1"
   },
   "source": [
    "# Diabetes Data Set\n",
    "\n",
    "Dataset file: 'diabetes.data'  \n",
    "Reference link for description of dataset: https://www4.stat.ncsu.edu/~boos/var.select/diabetes.html"
   ]
  },
  {
   "cell_type": "markdown",
   "metadata": {
    "colab_type": "text",
    "id": "vwuU7CGN_wZ4"
   },
   "source": [
    "### Preview of the Data Set\n",
    "\n",
    "Load the data set.\n",
    "\n",
    "a) Analyse the data set. Print the number of features, feature names, data types of the features, number of data points and the values of the first 10 data points."
   ]
  },
  {
   "cell_type": "code",
   "execution_count": 1,
   "metadata": {
    "colab": {
     "base_uri": "https://localhost:8080/",
     "height": 125
    },
    "colab_type": "code",
    "executionInfo": {
     "elapsed": 43689,
     "status": "ok",
     "timestamp": 1565616556350,
     "user": {
      "displayName": "MALKAPURAM GANDLA SAI SREE",
      "photoUrl": "",
      "userId": "06629185457401699264"
     },
     "user_tz": -330
    },
    "id": "Xzaddo1IA7hv",
    "outputId": "96b5cb56-eb5b-4fcb-d768-e7a6e7533463"
   },
   "outputs": [
    {
     "data": {
      "text/html": [
       "<div>\n",
       "<style scoped>\n",
       "    .dataframe tbody tr th:only-of-type {\n",
       "        vertical-align: middle;\n",
       "    }\n",
       "\n",
       "    .dataframe tbody tr th {\n",
       "        vertical-align: top;\n",
       "    }\n",
       "\n",
       "    .dataframe thead th {\n",
       "        text-align: right;\n",
       "    }\n",
       "</style>\n",
       "<table border=\"1\" class=\"dataframe\">\n",
       "  <thead>\n",
       "    <tr style=\"text-align: right;\">\n",
       "      <th></th>\n",
       "      <th>AGE</th>\n",
       "      <th>SEX</th>\n",
       "      <th>BMI</th>\n",
       "      <th>BP</th>\n",
       "      <th>S1</th>\n",
       "      <th>S2</th>\n",
       "      <th>S3</th>\n",
       "      <th>S4</th>\n",
       "      <th>S5</th>\n",
       "      <th>S6</th>\n",
       "      <th>Y</th>\n",
       "    </tr>\n",
       "  </thead>\n",
       "  <tbody>\n",
       "    <tr>\n",
       "      <th>0</th>\n",
       "      <td>59</td>\n",
       "      <td>2</td>\n",
       "      <td>32.1</td>\n",
       "      <td>101.0</td>\n",
       "      <td>157</td>\n",
       "      <td>93.2</td>\n",
       "      <td>38.0</td>\n",
       "      <td>4.00</td>\n",
       "      <td>4.8598</td>\n",
       "      <td>87</td>\n",
       "      <td>151</td>\n",
       "    </tr>\n",
       "    <tr>\n",
       "      <th>1</th>\n",
       "      <td>48</td>\n",
       "      <td>1</td>\n",
       "      <td>21.6</td>\n",
       "      <td>87.0</td>\n",
       "      <td>183</td>\n",
       "      <td>103.2</td>\n",
       "      <td>70.0</td>\n",
       "      <td>3.00</td>\n",
       "      <td>3.8918</td>\n",
       "      <td>69</td>\n",
       "      <td>75</td>\n",
       "    </tr>\n",
       "    <tr>\n",
       "      <th>2</th>\n",
       "      <td>72</td>\n",
       "      <td>2</td>\n",
       "      <td>30.5</td>\n",
       "      <td>93.0</td>\n",
       "      <td>156</td>\n",
       "      <td>93.6</td>\n",
       "      <td>41.0</td>\n",
       "      <td>4.00</td>\n",
       "      <td>4.6728</td>\n",
       "      <td>85</td>\n",
       "      <td>141</td>\n",
       "    </tr>\n",
       "    <tr>\n",
       "      <th>3</th>\n",
       "      <td>24</td>\n",
       "      <td>1</td>\n",
       "      <td>25.3</td>\n",
       "      <td>84.0</td>\n",
       "      <td>198</td>\n",
       "      <td>131.4</td>\n",
       "      <td>40.0</td>\n",
       "      <td>5.00</td>\n",
       "      <td>4.8903</td>\n",
       "      <td>89</td>\n",
       "      <td>206</td>\n",
       "    </tr>\n",
       "    <tr>\n",
       "      <th>4</th>\n",
       "      <td>50</td>\n",
       "      <td>1</td>\n",
       "      <td>23.0</td>\n",
       "      <td>101.0</td>\n",
       "      <td>192</td>\n",
       "      <td>125.4</td>\n",
       "      <td>52.0</td>\n",
       "      <td>4.00</td>\n",
       "      <td>4.2905</td>\n",
       "      <td>80</td>\n",
       "      <td>135</td>\n",
       "    </tr>\n",
       "    <tr>\n",
       "      <th>5</th>\n",
       "      <td>23</td>\n",
       "      <td>1</td>\n",
       "      <td>22.6</td>\n",
       "      <td>89.0</td>\n",
       "      <td>139</td>\n",
       "      <td>64.8</td>\n",
       "      <td>61.0</td>\n",
       "      <td>2.00</td>\n",
       "      <td>4.1897</td>\n",
       "      <td>68</td>\n",
       "      <td>97</td>\n",
       "    </tr>\n",
       "    <tr>\n",
       "      <th>6</th>\n",
       "      <td>36</td>\n",
       "      <td>2</td>\n",
       "      <td>22.0</td>\n",
       "      <td>90.0</td>\n",
       "      <td>160</td>\n",
       "      <td>99.6</td>\n",
       "      <td>50.0</td>\n",
       "      <td>3.00</td>\n",
       "      <td>3.9512</td>\n",
       "      <td>82</td>\n",
       "      <td>138</td>\n",
       "    </tr>\n",
       "    <tr>\n",
       "      <th>7</th>\n",
       "      <td>66</td>\n",
       "      <td>2</td>\n",
       "      <td>26.2</td>\n",
       "      <td>114.0</td>\n",
       "      <td>255</td>\n",
       "      <td>185.0</td>\n",
       "      <td>56.0</td>\n",
       "      <td>4.55</td>\n",
       "      <td>4.2485</td>\n",
       "      <td>92</td>\n",
       "      <td>63</td>\n",
       "    </tr>\n",
       "    <tr>\n",
       "      <th>8</th>\n",
       "      <td>60</td>\n",
       "      <td>2</td>\n",
       "      <td>32.1</td>\n",
       "      <td>83.0</td>\n",
       "      <td>179</td>\n",
       "      <td>119.4</td>\n",
       "      <td>42.0</td>\n",
       "      <td>4.00</td>\n",
       "      <td>4.4773</td>\n",
       "      <td>94</td>\n",
       "      <td>110</td>\n",
       "    </tr>\n",
       "    <tr>\n",
       "      <th>9</th>\n",
       "      <td>29</td>\n",
       "      <td>1</td>\n",
       "      <td>30.0</td>\n",
       "      <td>85.0</td>\n",
       "      <td>180</td>\n",
       "      <td>93.4</td>\n",
       "      <td>43.0</td>\n",
       "      <td>4.00</td>\n",
       "      <td>5.3845</td>\n",
       "      <td>88</td>\n",
       "      <td>310</td>\n",
       "    </tr>\n",
       "  </tbody>\n",
       "</table>\n",
       "</div>"
      ],
      "text/plain": [
       "   AGE  SEX   BMI     BP   S1     S2    S3    S4      S5  S6    Y\n",
       "0   59    2  32.1  101.0  157   93.2  38.0  4.00  4.8598  87  151\n",
       "1   48    1  21.6   87.0  183  103.2  70.0  3.00  3.8918  69   75\n",
       "2   72    2  30.5   93.0  156   93.6  41.0  4.00  4.6728  85  141\n",
       "3   24    1  25.3   84.0  198  131.4  40.0  5.00  4.8903  89  206\n",
       "4   50    1  23.0  101.0  192  125.4  52.0  4.00  4.2905  80  135\n",
       "5   23    1  22.6   89.0  139   64.8  61.0  2.00  4.1897  68   97\n",
       "6   36    2  22.0   90.0  160   99.6  50.0  3.00  3.9512  82  138\n",
       "7   66    2  26.2  114.0  255  185.0  56.0  4.55  4.2485  92   63\n",
       "8   60    2  32.1   83.0  179  119.4  42.0  4.00  4.4773  94  110\n",
       "9   29    1  30.0   85.0  180   93.4  43.0  4.00  5.3845  88  310"
      ]
     },
     "execution_count": 1,
     "metadata": {},
     "output_type": "execute_result"
    }
   ],
   "source": [
    "# Importing libraries\n",
    "import pandas as pd\n",
    "import numpy as np\n",
    "# accessing the data\n",
    "data = pd.read_csv('diabetes.data', sep='\\t')\n",
    "# printing first 10 rows of the data\n",
    "data.head(10)"
   ]
  },
  {
   "cell_type": "code",
   "execution_count": 2,
   "metadata": {},
   "outputs": [
    {
     "name": "stdout",
     "output_type": "stream",
     "text": [
      "The size of the dataset:  (442, 11)\n",
      "The no. of samples are:  442\n",
      "The no.of features are:  11\n"
     ]
    }
   ],
   "source": [
    "# features\n",
    "print(\"The size of the dataset: \", data.shape)\n",
    "print(\"The no. of samples are: \", data.shape[0])\n",
    "print('The no.of features are: ', data.shape[1])"
   ]
  },
  {
   "cell_type": "code",
   "execution_count": 3,
   "metadata": {},
   "outputs": [
    {
     "name": "stdout",
     "output_type": "stream",
     "text": [
      "The features available are:  Index(['AGE', 'SEX', 'BMI', 'BP', 'S1', 'S2', 'S3', 'S4', 'S5', 'S6', 'Y'], dtype='object')\n"
     ]
    }
   ],
   "source": [
    "# name of the available features\n",
    "features = data.columns\n",
    "print(\"The features available are: \", features)"
   ]
  },
  {
   "cell_type": "code",
   "execution_count": 4,
   "metadata": {},
   "outputs": [
    {
     "name": "stdout",
     "output_type": "stream",
     "text": [
      "<class 'pandas.core.frame.DataFrame'>\n",
      "RangeIndex: 442 entries, 0 to 441\n",
      "Data columns (total 11 columns):\n",
      "AGE    442 non-null int64\n",
      "SEX    442 non-null int64\n",
      "BMI    442 non-null float64\n",
      "BP     442 non-null float64\n",
      "S1     442 non-null int64\n",
      "S2     442 non-null float64\n",
      "S3     442 non-null float64\n",
      "S4     442 non-null float64\n",
      "S5     442 non-null float64\n",
      "S6     442 non-null int64\n",
      "Y      442 non-null int64\n",
      "dtypes: float64(6), int64(5)\n",
      "memory usage: 38.1 KB\n"
     ]
    }
   ],
   "source": [
    "# getting the datatype of features \n",
    "data.info()"
   ]
  },
  {
   "cell_type": "code",
   "execution_count": 5,
   "metadata": {},
   "outputs": [
    {
     "data": {
      "text/html": [
       "<div>\n",
       "<style scoped>\n",
       "    .dataframe tbody tr th:only-of-type {\n",
       "        vertical-align: middle;\n",
       "    }\n",
       "\n",
       "    .dataframe tbody tr th {\n",
       "        vertical-align: top;\n",
       "    }\n",
       "\n",
       "    .dataframe thead th {\n",
       "        text-align: right;\n",
       "    }\n",
       "</style>\n",
       "<table border=\"1\" class=\"dataframe\">\n",
       "  <thead>\n",
       "    <tr style=\"text-align: right;\">\n",
       "      <th></th>\n",
       "      <th>AGE</th>\n",
       "      <th>SEX</th>\n",
       "      <th>BMI</th>\n",
       "      <th>BP</th>\n",
       "      <th>S1</th>\n",
       "      <th>S2</th>\n",
       "      <th>S3</th>\n",
       "      <th>S4</th>\n",
       "      <th>S5</th>\n",
       "      <th>S6</th>\n",
       "      <th>Y</th>\n",
       "    </tr>\n",
       "  </thead>\n",
       "  <tbody>\n",
       "    <tr>\n",
       "      <th>count</th>\n",
       "      <td>442.000000</td>\n",
       "      <td>442.000000</td>\n",
       "      <td>442.000000</td>\n",
       "      <td>442.000000</td>\n",
       "      <td>442.000000</td>\n",
       "      <td>442.000000</td>\n",
       "      <td>442.000000</td>\n",
       "      <td>442.000000</td>\n",
       "      <td>442.000000</td>\n",
       "      <td>442.000000</td>\n",
       "      <td>442.000000</td>\n",
       "    </tr>\n",
       "    <tr>\n",
       "      <th>mean</th>\n",
       "      <td>48.518100</td>\n",
       "      <td>1.468326</td>\n",
       "      <td>26.375792</td>\n",
       "      <td>94.647014</td>\n",
       "      <td>189.140271</td>\n",
       "      <td>115.439140</td>\n",
       "      <td>49.788462</td>\n",
       "      <td>4.070249</td>\n",
       "      <td>4.641411</td>\n",
       "      <td>91.260181</td>\n",
       "      <td>152.133484</td>\n",
       "    </tr>\n",
       "    <tr>\n",
       "      <th>std</th>\n",
       "      <td>13.109028</td>\n",
       "      <td>0.499561</td>\n",
       "      <td>4.418122</td>\n",
       "      <td>13.831283</td>\n",
       "      <td>34.608052</td>\n",
       "      <td>30.413081</td>\n",
       "      <td>12.934202</td>\n",
       "      <td>1.290450</td>\n",
       "      <td>0.522391</td>\n",
       "      <td>11.496335</td>\n",
       "      <td>77.093005</td>\n",
       "    </tr>\n",
       "    <tr>\n",
       "      <th>min</th>\n",
       "      <td>19.000000</td>\n",
       "      <td>1.000000</td>\n",
       "      <td>18.000000</td>\n",
       "      <td>62.000000</td>\n",
       "      <td>97.000000</td>\n",
       "      <td>41.600000</td>\n",
       "      <td>22.000000</td>\n",
       "      <td>2.000000</td>\n",
       "      <td>3.258100</td>\n",
       "      <td>58.000000</td>\n",
       "      <td>25.000000</td>\n",
       "    </tr>\n",
       "    <tr>\n",
       "      <th>25%</th>\n",
       "      <td>38.250000</td>\n",
       "      <td>1.000000</td>\n",
       "      <td>23.200000</td>\n",
       "      <td>84.000000</td>\n",
       "      <td>164.250000</td>\n",
       "      <td>96.050000</td>\n",
       "      <td>40.250000</td>\n",
       "      <td>3.000000</td>\n",
       "      <td>4.276700</td>\n",
       "      <td>83.250000</td>\n",
       "      <td>87.000000</td>\n",
       "    </tr>\n",
       "    <tr>\n",
       "      <th>50%</th>\n",
       "      <td>50.000000</td>\n",
       "      <td>1.000000</td>\n",
       "      <td>25.700000</td>\n",
       "      <td>93.000000</td>\n",
       "      <td>186.000000</td>\n",
       "      <td>113.000000</td>\n",
       "      <td>48.000000</td>\n",
       "      <td>4.000000</td>\n",
       "      <td>4.620050</td>\n",
       "      <td>91.000000</td>\n",
       "      <td>140.500000</td>\n",
       "    </tr>\n",
       "    <tr>\n",
       "      <th>75%</th>\n",
       "      <td>59.000000</td>\n",
       "      <td>2.000000</td>\n",
       "      <td>29.275000</td>\n",
       "      <td>105.000000</td>\n",
       "      <td>209.750000</td>\n",
       "      <td>134.500000</td>\n",
       "      <td>57.750000</td>\n",
       "      <td>5.000000</td>\n",
       "      <td>4.997200</td>\n",
       "      <td>98.000000</td>\n",
       "      <td>211.500000</td>\n",
       "    </tr>\n",
       "    <tr>\n",
       "      <th>max</th>\n",
       "      <td>79.000000</td>\n",
       "      <td>2.000000</td>\n",
       "      <td>42.200000</td>\n",
       "      <td>133.000000</td>\n",
       "      <td>301.000000</td>\n",
       "      <td>242.400000</td>\n",
       "      <td>99.000000</td>\n",
       "      <td>9.090000</td>\n",
       "      <td>6.107000</td>\n",
       "      <td>124.000000</td>\n",
       "      <td>346.000000</td>\n",
       "    </tr>\n",
       "  </tbody>\n",
       "</table>\n",
       "</div>"
      ],
      "text/plain": [
       "              AGE         SEX         BMI          BP          S1          S2  \\\n",
       "count  442.000000  442.000000  442.000000  442.000000  442.000000  442.000000   \n",
       "mean    48.518100    1.468326   26.375792   94.647014  189.140271  115.439140   \n",
       "std     13.109028    0.499561    4.418122   13.831283   34.608052   30.413081   \n",
       "min     19.000000    1.000000   18.000000   62.000000   97.000000   41.600000   \n",
       "25%     38.250000    1.000000   23.200000   84.000000  164.250000   96.050000   \n",
       "50%     50.000000    1.000000   25.700000   93.000000  186.000000  113.000000   \n",
       "75%     59.000000    2.000000   29.275000  105.000000  209.750000  134.500000   \n",
       "max     79.000000    2.000000   42.200000  133.000000  301.000000  242.400000   \n",
       "\n",
       "               S3          S4          S5          S6           Y  \n",
       "count  442.000000  442.000000  442.000000  442.000000  442.000000  \n",
       "mean    49.788462    4.070249    4.641411   91.260181  152.133484  \n",
       "std     12.934202    1.290450    0.522391   11.496335   77.093005  \n",
       "min     22.000000    2.000000    3.258100   58.000000   25.000000  \n",
       "25%     40.250000    3.000000    4.276700   83.250000   87.000000  \n",
       "50%     48.000000    4.000000    4.620050   91.000000  140.500000  \n",
       "75%     57.750000    5.000000    4.997200   98.000000  211.500000  \n",
       "max     99.000000    9.090000    6.107000  124.000000  346.000000  "
      ]
     },
     "execution_count": 5,
     "metadata": {},
     "output_type": "execute_result"
    }
   ],
   "source": [
    "# descriptve statistics of the columns of the data\n",
    "data.describe()\n",
    "\n",
    "# There are no missing values in the dataset.\n",
    "# The features are of different scales."
   ]
  },
  {
   "cell_type": "markdown",
   "metadata": {
    "colab_type": "text",
    "id": "Sm9xTLRe_waF"
   },
   "source": [
    "### Training and Testing Data Sets\n",
    "\n",
    "b) Split the data set into training and testing data set with a 80:20 ratio.\n",
    "\n",
    "(Hint: What precautions must you take before you split the data set?)"
   ]
  },
  {
   "cell_type": "code",
   "execution_count": 6,
   "metadata": {
    "colab": {},
    "colab_type": "code",
    "id": "G3vwkJem_waG"
   },
   "outputs": [
    {
     "name": "stdout",
     "output_type": "stream",
     "text": [
      "The dimension of the training data is:  (353, 10)\n",
      "The dimension of the test data is:  (89, 10)\n"
     ]
    }
   ],
   "source": [
    "# splitting the dataset \n",
    "from sklearn.model_selection import train_test_split\n",
    "X = data.drop(['Y'], axis = 1)\n",
    "Y = data['Y']\n",
    "X_train, X_test, Y_train, Y_test = train_test_split(X, Y, test_size = 0.20, random_state = 42)\n",
    "print(\"The dimension of the training data is: \", X_train.shape)\n",
    "print(\"The dimension of the test data is: \", X_test.shape)"
   ]
  },
  {
   "cell_type": "markdown",
   "metadata": {
    "colab_type": "text",
    "id": "7qfwzLcr_waJ"
   },
   "source": [
    "### Linear Regression\n",
    "\n",
    "c) Using linear regression, seek a model for the response of interest ($Y$), as a function of the baseline variables such as age, sex, body mass index, etc. Compute the training error and testing error."
   ]
  },
  {
   "cell_type": "code",
   "execution_count": 7,
   "metadata": {
    "colab": {
     "base_uri": "https://localhost:8080/",
     "height": 52
    },
    "colab_type": "code",
    "executionInfo": {
     "elapsed": 1100,
     "status": "ok",
     "timestamp": 1565616648527,
     "user": {
      "displayName": "MALKAPURAM GANDLA SAI SREE",
      "photoUrl": "",
      "userId": "06629185457401699264"
     },
     "user_tz": -330
    },
    "id": "DvCRLsF-_waK",
    "outputId": "3e0434e8-0df9-4035-f2a0-fcdb685aced7"
   },
   "outputs": [
    {
     "name": "stdout",
     "output_type": "stream",
     "text": [
      "The training error is: 2868.549702835577\n",
      " \n",
      "The testing error is: 2900.193628493484\n",
      " \n",
      "The coefficients of the variables in the regression model: \n",
      " [  0.13768782 -23.06446772   5.84636265   1.19709252  -1.28168474\n",
      "   0.81115203   0.60165319  10.15953917  67.1089624    0.20159907]\n"
     ]
    }
   ],
   "source": [
    "from sklearn.linear_model import LinearRegression\n",
    "from sklearn.metrics import mean_squared_error\n",
    "\n",
    "lr = LinearRegression()\n",
    "fit1 = lr.fit(X_train, Y_train)\n",
    "\n",
    "y_pred_train = lr.predict(X_train)\n",
    "mse_train = mean_squared_error(Y_train, y_pred_train)\n",
    "\n",
    "y_pred_test = lr.predict(X_test)\n",
    "mse_test = mean_squared_error(Y_test, y_pred_test)\n",
    "\n",
    "print(\"The training error is: {}\\n \".format(mse_train))\n",
    "print(\"The testing error is: {}\\n \".format(mse_test))\n",
    "print(\"The coefficients of the variables in the regression model: \\n\",  fit1.coef_)"
   ]
  },
  {
   "cell_type": "markdown",
   "metadata": {},
   "source": [
    "### Data Preprocessing\n",
    "\n",
    "d) Normalize the data set and perform linear regression again. Compute the training error and testing error. Comment."
   ]
  },
  {
   "cell_type": "code",
   "execution_count": 15,
   "metadata": {
    "colab": {
     "base_uri": "https://localhost:8080/",
     "height": 34
    },
    "colab_type": "code",
    "executionInfo": {
     "elapsed": 725,
     "status": "ok",
     "timestamp": 1565616649829,
     "user": {
      "displayName": "MALKAPURAM GANDLA SAI SREE",
      "photoUrl": "",
      "userId": "06629185457401699264"
     },
     "user_tz": -330
    },
    "id": "1hO4CGs9_waO",
    "outputId": "d4dfda9a-e901-4b46-d8e6-0d4fca57820f",
    "scrolled": true
   },
   "outputs": [
    {
     "name": "stdout",
     "output_type": "stream",
     "text": [
      "The training error(after normalizing) is: 3107.5711888936744 \n",
      "\n",
      "The testing error(after normalizing) is: 2972.4675510998663 \n",
      "\n",
      "The coefficients of the variables in the regression model: \n",
      " [  11.46979459 -755.47760298  200.11327228   42.10253798  -20.97777326\n",
      "   14.39406043   12.29039893  519.07141803 1830.71250724   10.40641672]\n"
     ]
    }
   ],
   "source": [
    "from sklearn.preprocessing import normalize\n",
    "from sklearn.linear_model import LinearRegression\n",
    "from sklearn.metrics import mean_squared_error\n",
    "from sklearn.model_selection import train_test_split\n",
    "\n",
    "#normalizing the data using sklearn normalize function which ensures all the columns have standard deviation 1 except Y\n",
    "X1 = data.drop(['Y'], axis = 1)\n",
    "Y1 = data['Y']\n",
    "X1 = X1 - X1.mean()\n",
    "X1 = normalize(X1)\n",
    "data_n = pd.DataFrame(X1, columns = ['AGE', 'SEX', 'BMI', 'BP', 'S1', 'S2', 'S3', 'S4', 'S5', 'S6'])\n",
    "X_train_n, X_test_n, Y_train_n, Y_test_n = train_test_split(X1, Y1, test_size = 0.20, random_state = 42)\n",
    "\n",
    "# fitting the linear regression model\n",
    "lr2 = LinearRegression()\n",
    "fit2 = lr2.fit(X_train_n, Y_train_n)\n",
    "y_pred_train2 = lr2.predict(X_train_n)\n",
    "mse_train2 = mean_squared_error(Y_train_n, y_pred_train2)\n",
    "y_pred_test2 = lr2.predict(X_test_n)\n",
    "mse_test2 = mean_squared_error(Y_test_n, y_pred_test2)\n",
    "\n",
    "print(\"The training error(after normalizing) is: {} \\n\".format(mse_train2))\n",
    "print(\"The testing error(after normalizing) is: {} \\n\".format(mse_test2))\n",
    "print(\"The coefficients of the variables in the regression model: \\n\",  fit2.coef_)"
   ]
  },
  {
   "cell_type": "code",
   "execution_count": 16,
   "metadata": {},
   "outputs": [
    {
     "name": "stdout",
     "output_type": "stream",
     "text": [
      "The training error(after normalizing) is: 0.0015952614578293252 \n",
      "\n",
      "The testing error(after normalizing) is: 0.0014785441098964435 \n",
      "\n",
      "The coefficients of the variables in the regression model: \n",
      " [-0.30611552 -2.45582069 -0.57179961 -0.57533418 -1.24546868 -0.55533014\n",
      " -0.61160414 -2.71190732  8.10427218 -0.68586854]\n"
     ]
    }
   ],
   "source": [
    "from sklearn.preprocessing import normalize\n",
    "from sklearn.linear_model import LinearRegression\n",
    "from sklearn.metrics import mean_squared_error\n",
    "from sklearn.model_selection import train_test_split\n",
    "\n",
    "#normalizing the data using sklearn normalize function which ensures all the columns have standard deviation 1\n",
    "data_n = normalize(data)\n",
    "data_n = pd.DataFrame(data_n, columns = ['AGE', 'SEX', 'BMI', 'BP', 'S1', 'S2', 'S3', 'S4', 'S5', 'S6', 'Y'])\n",
    "X1 = data_n.drop(['Y'], axis = 1)\n",
    "Y1 = data_n['Y']\n",
    "X_train_n, X_test_n, Y_train_n, Y_test_n = train_test_split(X1, Y1, test_size = 0.20, random_state = 42)\n",
    "\n",
    "# fitting the linear regression model\n",
    "lr2 = LinearRegression()\n",
    "fit2 = lr2.fit(X_train_n, Y_train_n)\n",
    "y_pred_train2 = lr2.predict(X_train_n)\n",
    "mse_train2 = mean_squared_error(Y_train_n, y_pred_train2)\n",
    "y_pred_test2 = lr2.predict(X_test_n)\n",
    "mse_test2 = mean_squared_error(Y_test_n, y_pred_test2)\n",
    "\n",
    "print(\"The training error(after normalizing) is: {} \\n\".format(mse_train2))\n",
    "print(\"The testing error(after normalizing) is: {} \\n\".format(mse_test2))\n",
    "print(\"The coefficients of the variables in the regression model: \\n\",  fit2.coef_)"
   ]
  },
  {
   "cell_type": "markdown",
   "metadata": {
    "colab_type": "text",
    "id": "wo1Xa-0bDZmq"
   },
   "source": [
    "### Feature Reduction\n",
    "\n",
    "e) Rank the features in order of importance (based on the study in d)). Comment."
   ]
  },
  {
   "cell_type": "code",
   "execution_count": 17,
   "metadata": {
    "colab": {
     "base_uri": "https://localhost:8080/",
     "height": 194
    },
    "colab_type": "code",
    "executionInfo": {
     "elapsed": 890,
     "status": "ok",
     "timestamp": 1565617372770,
     "user": {
      "displayName": "MALKAPURAM GANDLA SAI SREE",
      "photoUrl": "",
      "userId": "06629185457401699264"
     },
     "user_tz": -330
    },
    "id": "8NzU6I2RDiVK",
    "outputId": "98cdbe7e-29e2-438e-de5f-bd57419c2b9b"
   },
   "outputs": [
    {
     "name": "stdout",
     "output_type": "stream",
     "text": [
      "The Rank based on correlation with the output: \n",
      " S1     0.896540\n",
      "S2     0.636091\n",
      "S3     0.604019\n",
      "S6     0.515001\n",
      "S5     0.449214\n",
      "BP     0.405009\n",
      "AGE    0.316734\n",
      "SEX    0.290446\n",
      "BMI    0.224424\n",
      "S4     0.089442\n",
      "Name: Y, dtype: float64\n"
     ]
    }
   ],
   "source": [
    "# Finding the correlation matrix and finding the correlation of other variables with Y\n",
    "data_n = pd.DataFrame(X1, columns = ['AGE', 'SEX', 'BMI', 'BP', 'S1', 'S2', 'S3', 'S4', 'S5', 'S6'])\n",
    "data_n['Y'] = Y1\n",
    "print(\"The Rank based on correlation with the output: \\n\", abs(data_n.corr()['Y']).sort_values(ascending = False).drop(labels = ['Y']))"
   ]
  },
  {
   "cell_type": "code",
   "execution_count": 18,
   "metadata": {},
   "outputs": [
    {
     "name": "stdout",
     "output_type": "stream",
     "text": [
      "The Rank based on regression coefficients: \n",
      " S5     8.104272\n",
      "S4     2.711907\n",
      "SEX    2.455821\n",
      "S1     1.245469\n",
      "S6     0.685869\n",
      "S3     0.611604\n",
      "BP     0.575334\n",
      "BMI    0.571800\n",
      "S2     0.555330\n",
      "AGE    0.306116\n",
      "dtype: float64\n"
     ]
    }
   ],
   "source": [
    "# ranking as per the regression model coefficients\n",
    "coef_rank = pd.Series(fit2.coef_, index = ['AGE', 'SEX', 'BMI', 'BP', 'S1', 'S2', 'S3', 'S4', 'S5', 'S6'])\n",
    "print(\"The Rank based on regression coefficients: \\n\",abs(coef_rank).sort_values(ascending = False))"
   ]
  },
  {
   "cell_type": "code",
   "execution_count": 19,
   "metadata": {},
   "outputs": [
    {
     "name": "stdout",
     "output_type": "stream",
     "text": [
      "The Rank based on F_score: \n",
      " S1     1802.422333\n",
      "S2      299.013912\n",
      "S3      252.737525\n",
      "S6      158.823950\n",
      "S5      111.235341\n",
      "BP       86.336188\n",
      "AGE      49.063162\n",
      "SEX      40.537536\n",
      "BMI      23.336458\n",
      "S4        3.548324\n",
      "dtype: float64\n",
      "The Rank based on p_value: \n",
      " S4      6.026481e-02\n",
      "BMI     1.880971e-06\n",
      "SEX     4.857360e-10\n",
      "AGE     9.336098e-12\n",
      "BP      7.068198e-19\n",
      "S5      2.449895e-23\n",
      "S6      2.625735e-31\n",
      "S3      2.702055e-45\n",
      "S2      1.702265e-51\n",
      "S1     1.068849e-157\n",
      "dtype: float64\n"
     ]
    }
   ],
   "source": [
    "# ranking of features using the sklearn feature selection module\n",
    "from sklearn.feature_selection import f_regression\n",
    "F, pval = f_regression(X1,Y1)\n",
    "F_rank = pd.Series(F, index = ['AGE', 'SEX', 'BMI', 'BP', 'S1', 'S2', 'S3', 'S4', 'S5', 'S6'])\n",
    "print(\"The Rank based on F_score: \\n\", abs(F_rank).sort_values(ascending = False))\n",
    "\n",
    "pval_rank = pd.Series(pval, index = ['AGE', 'SEX', 'BMI', 'BP', 'S1', 'S2', 'S3', 'S4', 'S5', 'S6'])\n",
    "print(\"The Rank based on p_value: \\n\", abs(pval_rank).sort_values(ascending = False))"
   ]
  },
  {
   "cell_type": "markdown",
   "metadata": {},
   "source": [
    "\n",
    "### Polynomial Regression\n",
    "\n",
    "f) Repeat the exercise in d) with quadratic features. List the features you would add to the existing data set. Compute the training error and the testing error. Comment."
   ]
  },
  {
   "cell_type": "code",
   "execution_count": 20,
   "metadata": {},
   "outputs": [
    {
     "name": "stdout",
     "output_type": "stream",
     "text": [
      "The training error(after normalizing and using quadratic features) is: 0.00048399914905966244 \n",
      "\n",
      "The testing error(after normalizing and quadratic features) is: 0.0005318401443962595 \n",
      "\n",
      "The coefficients of the variables in the polynomial regression model: \n",
      " [ 1.77020163e+13  9.58339324e-01  9.48280816e+00  1.86090673e+00\n",
      "  3.08994432e+00  4.37934831e+00  3.89439865e-01  1.52263423e+00\n",
      "  3.25122546e+01 -2.15450483e+01  7.58095159e-02  6.79014923e-01\n",
      "  6.37415093e+00 -6.92637556e+00 -6.36674311e-01  2.72813795e+00\n",
      " -2.52354413e+00 -3.79924085e+00 -4.42855003e+01 -4.76343556e+01\n",
      "  1.44985405e+00  1.45335537e+03  2.61942396e+01  3.47046832e+01\n",
      " -3.41682495e+00 -6.62818049e+00 -1.07067824e+02 -9.34555604e+02\n",
      " -1.97902388e+02  6.00639266e-01  3.68570986e+01 -1.96713019e+01\n",
      " -1.40942179e+01  1.55987634e+00  7.10076916e+00  6.91172048e+01\n",
      " -2.68304811e+01  1.51634637e+01 -8.98568643e-01 -3.90202738e+00\n",
      "  1.00669913e+00  1.67356313e+00 -9.04831030e+00 -2.66476350e+01\n",
      "  1.83144979e+00 -4.21976471e+00  2.48703393e-01 -1.10585120e+00\n",
      " -6.13099761e+01  8.62385931e+01  2.59435274e+00 -3.36818626e-01\n",
      " -2.86009402e+00 -1.17789933e+00  6.17972848e+00 -2.26611423e+00\n",
      "  3.87858454e-01  6.66485824e+01  2.86842181e+01 -5.48398283e+00\n",
      " -1.46491009e+02  1.37014585e+03 -4.93793822e+01 -1.09819849e+03\n",
      "  1.42359784e+00 -3.41561442e+00]\n"
     ]
    }
   ],
   "source": [
    "from sklearn.preprocessing import PolynomialFeatures\n",
    "from sklearn.linear_model import LinearRegression\n",
    "from sklearn.metrics import mean_squared_error\n",
    "\n",
    "pol = PolynomialFeatures(degree = 2)\n",
    "X_train_new = pol.fit_transform(X_train_n)\n",
    "X_test_new = pol.fit_transform(X_test_n)\n",
    "lr3 = LinearRegression()\n",
    "fit3 = lr3.fit(X_train_new, Y_train_n)\n",
    "\n",
    "y_pred_train3 = lr3.predict(X_train_new)\n",
    "mse_train3 = mean_squared_error(Y_train_n, y_pred_train3)\n",
    "\n",
    "y_pred_test3 = lr3.predict(X_test_new)\n",
    "mse_test3 = mean_squared_error(Y_test_n, y_pred_test3)\n",
    "\n",
    "print(\"The training error(after normalizing and using quadratic features) is: {} \\n\".format(mse_train3))\n",
    "print(\"The testing error(after normalizing and quadratic features) is: {} \\n\".format(mse_test3))\n",
    "print(\"The coefficients of the variables in the polynomial regression model: \\n\",  fit3.coef_)"
   ]
  }
 ],
 "metadata": {
  "colab": {
   "name": "Exercise Part 2.ipynb",
   "provenance": [],
   "version": "0.3.2"
  },
  "kernelspec": {
   "display_name": "Python 3",
   "language": "python",
   "name": "python3"
  },
  "language_info": {
   "codemirror_mode": {
    "name": "ipython",
    "version": 3
   },
   "file_extension": ".py",
   "mimetype": "text/x-python",
   "name": "python",
   "nbconvert_exporter": "python",
   "pygments_lexer": "ipython3",
   "version": "3.7.3"
  }
 },
 "nbformat": 4,
 "nbformat_minor": 1
}
