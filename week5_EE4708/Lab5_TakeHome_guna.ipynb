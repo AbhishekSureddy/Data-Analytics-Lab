{
 "cells": [
  {
   "cell_type": "markdown",
   "metadata": {
    "colab_type": "text",
    "id": "MMWp3bQP-bhU"
   },
   "source": [
    "# Lab 5 - Classification : Naive Bayes and Logistic Regression"
   ]
  },
  {
   "cell_type": "markdown",
   "metadata": {
    "colab_type": "text",
    "id": "n-5YUdzFsqwL"
   },
   "source": [
    "# Optical recognition of handwritten digits dataset\n",
    "**Download dataset from sklearn. The dataset has 10 classes and 64 attributes (8x8 images). Visualise images from the dataset. Perform a train test split in the ratio 4:1.**"
   ]
  },
  {
   "cell_type": "markdown",
   "metadata": {
    "colab_type": "text",
    "id": "6w_FSrzBE5pw"
   },
   "source": [
    "# Using sklearn (25 points)"
   ]
  },
  {
   "cell_type": "markdown",
   "metadata": {
    "colab_type": "text",
    "id": "ANyyLqRaE-RA"
   },
   "source": [
    "**For this exercise, you will use the naive bayes and logistic regression functions in sklearn. Use the optical recognition dataset.**\n",
    "\n",
    "\n",
    "**a) Logistic Regression - use one vs all classification method to classify the dataset into one of the ten classes. Report the accuracies in terms of F1 scores and the confusion matrix (use sklearn functions for this too). Tune parameters to obtain the best results.**\n",
    "\n",
    "**b) Naive Bayes - perform multiclass classification to classify the dataset into one of the ten classes. Experiment with all the priors available (Gaussian, Bernoulli, etc) and report the best prior. Report the accuracies in terms of F1 scores and the confusion matrix (use sklearn functions for this too).**\n",
    "\n",
    "**Estimated Time: 50 mins**"
   ]
  },
  {
   "cell_type": "code",
   "execution_count": 2,
   "metadata": {
    "colab": {},
    "colab_type": "code",
    "id": "EvL8quVdN24q"
   },
   "outputs": [
    {
     "name": "stdout",
     "output_type": "stream",
     "text": [
      " The images in the given dataset are as follows:\n"
     ]
    },
    {
     "data": {
      "image/png": "[encoded data removed]",
      "text/plain": [
       "<Figure size 1080x1080 with 6 Axes>"
      ]
     },
     "metadata": {
      "needs_background": "light"
     },
     "output_type": "display_data"
    }
   ],
   "source": [
    "import numpy as np\n",
    "import pandas as pd\n",
    "from sklearn import metrics\n",
    "from sklearn.linear_model import LogisticRegression\n",
    "from sklearn.model_selection import train_test_split\n",
    "from sklearn.model_selection import GridSearchCV\n",
    "from sklearn.datasets import load_digits\n",
    "import matplotlib.pyplot as plt\n",
    "import warnings\n",
    "warnings.filterwarnings(\"ignore\")\n",
    "\n",
    "# getting the dataset \n",
    "digits = load_digits()\n",
    "\n",
    "# visualizing the images in the dataset (from image key)\n",
    "print(\" The images in the given dataset are as follows:\")\n",
    "plt.figure(figsize = (15,15))\n",
    "images_and_labels = list(zip(digits.images, digits.target))\n",
    "for index, (image, label) in enumerate(images_and_labels[:6]):\n",
    "    plt.subplot(1, 6, index + 1)\n",
    "    plt.axis('off')\n",
    "    plt.imshow(image, cmap=plt.cm.gray_r)\n",
    "    plt.title('%i' % label)"
   ]
  },
  {
   "cell_type": "code",
   "execution_count": 2,
   "metadata": {},
   "outputs": [
    {
     "name": "stdout",
     "output_type": "stream",
     "text": [
      "The dimension of the original dataset is (1797, 64)\n",
      "The dimension of the training data is:  (1437, 64)\n",
      "The dimension of the test data is:  (360, 64)\n"
     ]
    }
   ],
   "source": [
    "# splitting the dataset as train and test datasets\n",
    "X_train, X_test, Y_train, Y_test = train_test_split(digits.data, digits.target, test_size = 0.20, random_state = 1)\n",
    "print('The dimension of the original dataset is', digits.data.shape)\n",
    "print(\"The dimension of the training data is: \", X_train.shape)\n",
    "print(\"The dimension of the test data is: \", X_test.shape)"
   ]
  },
  {
   "cell_type": "markdown",
   "metadata": {},
   "source": [
    "# LOGISTIC REGRESSION"
   ]
  },
  {
   "cell_type": "code",
   "execution_count": 3,
   "metadata": {},
   "outputs": [
    {
     "name": "stdout",
     "output_type": "stream",
     "text": [
      "F1-Score computed is: \n",
      " 0.9694444444444444\n",
      "\n",
      "Confusion matrix:\n",
      "[[42  0  0  0  1  0  0  0  0  0]\n",
      " [ 0 34  0  0  0  0  0  0  1  0]\n",
      " [ 0  0 35  1  0  0  0  0  0  0]\n",
      " [ 0  0  0 39  0  0  0  0  1  1]\n",
      " [ 0  0  0  0 38  0  0  0  0  0]\n",
      " [ 0  0  0  1  0 29  0  0  0  0]\n",
      " [ 0  0  0  0  0  0 37  0  0  0]\n",
      " [ 0  0  0  0  0  0  0 36  0  1]\n",
      " [ 0  0  0  0  0  1  0  0 27  1]\n",
      " [ 0  0  0  0  0  1  0  0  1 32]]\n",
      "\n",
      "Classification report for logistic regression classifier \n",
      "              precision    recall  f1-score   support\n",
      "\n",
      "           0       1.00      0.98      0.99        43\n",
      "           1       1.00      0.97      0.99        35\n",
      "           2       1.00      0.97      0.99        36\n",
      "           3       0.95      0.95      0.95        41\n",
      "           4       0.97      1.00      0.99        38\n",
      "           5       0.94      0.97      0.95        30\n",
      "           6       1.00      1.00      1.00        37\n",
      "           7       1.00      0.97      0.99        37\n",
      "           8       0.90      0.93      0.92        29\n",
      "           9       0.91      0.94      0.93        34\n",
      "\n",
      "   micro avg       0.97      0.97      0.97       360\n",
      "   macro avg       0.97      0.97      0.97       360\n",
      "weighted avg       0.97      0.97      0.97       360\n",
      "\n",
      "\n",
      "Number of mislabeled points out of a total 360 points : 11\n"
     ]
    }
   ],
   "source": [
    "# Logistic Regression without tuning\n",
    "logreg = LogisticRegression()\n",
    "log_fit = logreg.fit(X_train,Y_train)\n",
    "\n",
    "y_pred = log_fit.predict(X_test)\n",
    "\n",
    "print(\"F1-Score computed is: \\n %s\\n\"\n",
    "      % (metrics.f1_score(Y_test, y_pred, average='micro')))\n",
    "\n",
    "print(\"Confusion matrix:\\n%s\\n\" % metrics.confusion_matrix(Y_test, y_pred))\n",
    "\n",
    "print(\"Classification report for logistic regression classifier \\n%s\\n\"\n",
    "      % (metrics.classification_report(Y_test, y_pred)))\n",
    "\n",
    "print(\"Number of mislabeled points out of a total %d points : %d\" % (X_test.shape[0],(Y_test != y_pred).sum()))"
   ]
  },
  {
   "cell_type": "code",
   "execution_count": 4,
   "metadata": {},
   "outputs": [
    {
     "name": "stdout",
     "output_type": "stream",
     "text": [
      "The optimal C value is:  0.015510204081632653\n"
     ]
    }
   ],
   "source": [
    "# using GridSearchCV to tune the logistic regression Model\n",
    "rng = np.linspace(0.01,0.1,50)\n",
    "parameters = {'C': rng}\n",
    "reg = LogisticRegression()\n",
    "clf = GridSearchCV(reg, parameters, cv = 5)\n",
    "clf.fit(X_train, Y_train)\n",
    "print(\"The optimal C value is: \", clf.best_params_['C'])"
   ]
  },
  {
   "cell_type": "code",
   "execution_count": 5,
   "metadata": {},
   "outputs": [
    {
     "name": "stdout",
     "output_type": "stream",
     "text": [
      "F1-Score computed is: \n",
      " 0.975\n",
      "\n",
      "Confusion matrix:\n",
      "[[42  0  0  0  1  0  0  0  0  0]\n",
      " [ 0 33  0  0  1  0  1  0  0  0]\n",
      " [ 0  0 36  0  0  0  0  0  0  0]\n",
      " [ 0  0  0 40  0  1  0  0  0  0]\n",
      " [ 0  0  0  0 38  0  0  0  0  0]\n",
      " [ 0  0  0  0  0 30  0  0  0  0]\n",
      " [ 0  0  0  0  0  0 37  0  0  0]\n",
      " [ 0  0  0  0  0  0  0 36  0  1]\n",
      " [ 0  0  0  0  0  1  0  0 27  1]\n",
      " [ 0  0  0  0  0  1  0  0  1 32]]\n",
      "\n",
      "Classification report for logistic regression classifier \n",
      "              precision    recall  f1-score   support\n",
      "\n",
      "           0       1.00      0.98      0.99        43\n",
      "           1       1.00      0.94      0.97        35\n",
      "           2       1.00      1.00      1.00        36\n",
      "           3       1.00      0.98      0.99        41\n",
      "           4       0.95      1.00      0.97        38\n",
      "           5       0.91      1.00      0.95        30\n",
      "           6       0.97      1.00      0.99        37\n",
      "           7       1.00      0.97      0.99        37\n",
      "           8       0.96      0.93      0.95        29\n",
      "           9       0.94      0.94      0.94        34\n",
      "\n",
      "   micro avg       0.97      0.97      0.97       360\n",
      "   macro avg       0.97      0.97      0.97       360\n",
      "weighted avg       0.98      0.97      0.98       360\n",
      "\n",
      "\n",
      "Number of mislabeled points out of a total 360 points : 9\n"
     ]
    }
   ],
   "source": [
    "# Building the Logistic Regression Model with the optimal parameters\n",
    "logreg = LogisticRegression(C = clf.best_params_['C'])\n",
    "log_fit = logreg.fit(X_train,Y_train)\n",
    "\n",
    "y_pred = log_fit.predict(X_test)\n",
    "\n",
    "print(\"F1-Score computed is: \\n %s\\n\"\n",
    "      % (metrics.f1_score(Y_test, y_pred, average='micro')))\n",
    "\n",
    "print(\"Confusion matrix:\\n%s\\n\" % metrics.confusion_matrix(Y_test, y_pred))\n",
    "\n",
    "print(\"Classification report for logistic regression classifier \\n%s\\n\"\n",
    "      % (metrics.classification_report(Y_test, y_pred)))\n",
    "print(\"Number of mislabeled points out of a total %d points : %d\" % (X_test.shape[0],(Y_test != y_pred).sum()))"
   ]
  },
  {
   "cell_type": "code",
   "execution_count": 6,
   "metadata": {},
   "outputs": [
    {
     "name": "stdout",
     "output_type": "stream",
     "text": [
      " The images in the test dataset and their predictions are as follows:\n"
     ]
    },
    {
     "data": {
      "image/png": "[encoded data removed]",
      "text/plain": [
       "<Figure size 1296x1296 with 10 Axes>"
      ]
     },
     "metadata": {
      "needs_background": "light"
     },
     "output_type": "display_data"
    }
   ],
   "source": [
    "# Visualizing test dataset along with the predictions of Logistic Regression Classifier\n",
    "test_images = [X_test[i].reshape(8,8) for i in range(len(X_test))]\n",
    "images_and_predictions = list(zip(test_images, y_pred))\n",
    "print(\" The images in the test dataset and their predictions are as follows:\")\n",
    "plt.figure(figsize = (18,18))\n",
    "for index, (image, prediction) in enumerate(images_and_predictions[:10]):\n",
    "    plt.subplot(1, 10, index + 1)\n",
    "    plt.axis('off')\n",
    "    plt.imshow(image, cmap=plt.cm.gray_r)\n",
    "    plt.title('%i' % prediction)\n",
    "\n",
    "plt.show()"
   ]
  },
  {
   "cell_type": "markdown",
   "metadata": {},
   "source": [
    "### Observation:\n",
    "- Logistic Regression performs fairly well on the given dataset with a tuned (after tuning the regularization parameter (C))  f1 score of 0.975 with a miss classification error of 9 out of 360 images in the test dataset.\n",
    "- The classification report is also printed to get the info about all the classes present (0 to 9) "
   ]
  },
  {
   "cell_type": "markdown",
   "metadata": {},
   "source": [
    "# NAIVE BAYES CLASSIFICATION "
   ]
  },
  {
   "cell_type": "code",
   "execution_count": 7,
   "metadata": {},
   "outputs": [
    {
     "name": "stdout",
     "output_type": "stream",
     "text": [
      "Number of mislabeled points out of a total 360 points : 53\n",
      "\n",
      "F1-Score computed using Gaussian prior is: \n",
      " 0.8527777777777777\n",
      "\n",
      "Confusion matrix:\n",
      "[[41  0  0  0  1  0  0  1  0  0]\n",
      " [ 0 29  0  0  0  0  0  0  6  0]\n",
      " [ 0  3 23  1  0  0  0  0  9  0]\n",
      " [ 0  1  1 32  0  2  0  2  3  0]\n",
      " [ 1  0  0  0 35  0  1  0  1  0]\n",
      " [ 0  1  0  0  0 25  0  2  2  0]\n",
      " [ 0  0  0  0  0  0 37  0  0  0]\n",
      " [ 0  0  0  0  0  0  0 37  0  0]\n",
      " [ 0  0  0  1  0  0  0  0 28  0]\n",
      " [ 0  1  0  1  2  1  0  5  4 20]]\n",
      "\n"
     ]
    }
   ],
   "source": [
    "# using gaussian prior\n",
    "from sklearn.naive_bayes import GaussianNB\n",
    "gnb = GaussianNB()\n",
    "y_pred = gnb.fit(X_train, Y_train).predict(X_test)\n",
    "print(\"Number of mislabeled points out of a total %d points : %d\\n\" % (X_test.shape[0],(Y_test != y_pred).sum()))\n",
    "\n",
    "print(\"F1-Score computed using Gaussian prior is: \\n %s\\n\"\n",
    "      % (metrics.f1_score(Y_test, y_pred, average='micro')))\n",
    "\n",
    "print(\"Confusion matrix:\\n%s\\n\" % metrics.confusion_matrix(Y_test, y_pred))\n"
   ]
  },
  {
   "cell_type": "code",
   "execution_count": 12,
   "metadata": {},
   "outputs": [
    {
     "name": "stdout",
     "output_type": "stream",
     "text": [
      "Number of mislabeled points out of a total 360 points : 33\n",
      "\n",
      "F1-Score computed using Multinomial Naive Bayes is: \n",
      " 0.9083333333333333\n",
      "\n",
      "Confusion matrix:\n",
      "[[41  0  0  0  2  0  0  0  0  0]\n",
      " [ 0 24  5  0  0  0  1  0  3  2]\n",
      " [ 0  1 31  0  0  0  0  0  2  2]\n",
      " [ 0  0  0 34  0  0  0  1  3  3]\n",
      " [ 1  0  0  0 36  0  0  1  0  0]\n",
      " [ 0  0  0  0  0 29  0  0  0  1]\n",
      " [ 0  0  0  0  0  0 37  0  0  0]\n",
      " [ 0  0  0  0  0  0  0 36  1  0]\n",
      " [ 0  0  0  0  0  0  0  0 28  1]\n",
      " [ 0  0  0  0  0  0  0  3  0 31]]\n",
      "\n"
     ]
    }
   ],
   "source": [
    "# using Multinomial Naive Bayes\n",
    "from sklearn.naive_bayes import MultinomialNB\n",
    "multiNB = MultinomialNB()\n",
    "y_pred = multiNB.fit(X_train, Y_train).predict(X_test)\n",
    "print(\"Number of mislabeled points out of a total %d points : %d\\n\" % (X_test.shape[0],(Y_test != y_pred).sum()))\n",
    "\n",
    "print(\"F1-Score computed using Multinomial Naive Bayes is: \\n %s\\n\"\n",
    "      % (metrics.f1_score(Y_test, y_pred, average='micro')))\n",
    "\n",
    "print(\"Confusion matrix:\\n%s\\n\" % metrics.confusion_matrix(Y_test, y_pred))"
   ]
  },
  {
   "cell_type": "code",
   "execution_count": 13,
   "metadata": {},
   "outputs": [
    {
     "name": "stdout",
     "output_type": "stream",
     "text": [
      "Number of mislabeled points out of a total 360 points : 47\n",
      "\n",
      "F1-Score computed using Bernoulli prior is: \n",
      " 0.8694444444444445\n",
      "\n",
      "Confusion matrix:\n",
      "[[42  1  0  0  0  0  0  0  0  0]\n",
      " [ 0 20  7  0  0  0  0  0  6  2]\n",
      " [ 0  1 31  2  0  0  0  1  1  0]\n",
      " [ 0  0  1 33  0  0  0  1  2  4]\n",
      " [ 0  0  0  0 37  0  0  1  0  0]\n",
      " [ 0  1  0  0  0 27  0  0  1  1]\n",
      " [ 0  0  0  0  0  0 37  0  0  0]\n",
      " [ 0  0  0  0  1  0  0 35  1  0]\n",
      " [ 0  0  0  0  0  1  0  0 25  3]\n",
      " [ 0  2  0  2  0  1  0  3  0 26]]\n",
      "\n"
     ]
    }
   ],
   "source": [
    "# using Bernoulli prior\n",
    "from sklearn.naive_bayes import BernoulliNB\n",
    "bnb = BernoulliNB()\n",
    "y_pred = bnb.fit(X_train, Y_train).predict(X_test)\n",
    "print(\"Number of mislabeled points out of a total %d points : %d\\n\" % (X_test.shape[0],(Y_test != y_pred).sum()))\n",
    "\n",
    "print(\"F1-Score computed using Bernoulli prior is: \\n %s\\n\"\n",
    "      % (metrics.f1_score(Y_test, y_pred, average='micro')))\n",
    "\n",
    "print(\"Confusion matrix:\\n%s\\n\" % metrics.confusion_matrix(Y_test, y_pred))\n"
   ]
  },
  {
   "cell_type": "markdown",
   "metadata": {
    "colab_type": "text",
    "id": "oli7OP9XN4ZF"
   },
   "source": [
    "### Observation\n",
    "- The MultinomialNB gives the best f1 score of 0.90833 as against GaussianNB(0.85277) and BernoulliNB(0.86944). So, Multinomial Prior is the best prior.\n",
    "- The accuracies are reported in terms of F1 score and Confusion Matrix in all the three cases."
   ]
  },
  {
   "cell_type": "markdown",
   "metadata": {
    "colab_type": "text",
    "id": "Aiq6KaGLOAba"
   },
   "source": [
    "# The End"
   ]
  }
 ],
 "metadata": {
  "colab": {
   "collapsed_sections": [],
   "name": "Lab5_DataAnalytics.ipynb",
   "provenance": [],
   "version": "0.3.2"
  },
  "kernelspec": {
   "display_name": "Python 3",
   "language": "python",
   "name": "python3"
  },
  "language_info": {
   "codemirror_mode": {
    "name": "ipython",
    "version": 3
   },
   "file_extension": ".py",
   "mimetype": "text/x-python",
   "name": "python",
   "nbconvert_exporter": "python",
   "pygments_lexer": "ipython3",
   "version": "3.7.3"
  }
 },
 "nbformat": 4,
 "nbformat_minor": 1
}
